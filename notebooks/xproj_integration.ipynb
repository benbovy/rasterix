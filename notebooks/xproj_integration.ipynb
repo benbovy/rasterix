{
 "cells": [
  {
   "cell_type": "markdown",
   "id": "0",
   "metadata": {},
   "source": [
    "# Coordinate Reference System (CRS) Management\n",
    "\n",
    "Rasterix uses [XProj](https://xproj.readthedocs.io/en/latest/) to store and manage the CRS of a dataset"
   ]
  },
  {
   "cell_type": "code",
   "execution_count": null,
   "id": "1",
   "metadata": {},
   "outputs": [],
   "source": [
    "# GDAL settings for remote data\n",
    "import os\n",
    "\n",
    "import xarray as xr\n",
    "import xproj\n",
    "\n",
    "import rasterix\n",
    "\n",
    "os.environ[\"VSICURL_PC_URL_SIGNING\"] = \"YES\"\n",
    "os.environ[\"GDAL_DISABLE_READDIR_ON_OPEN\"] = \"EMPTY_DIR\"\n",
    "\n",
    "xr.set_options(display_expand_indexes=True);"
   ]
  },
  {
   "cell_type": "code",
   "execution_count": null,
   "id": "2",
   "metadata": {},
   "outputs": [],
   "source": [
    "url = \"https://noaadata.apps.nsidc.org/NOAA/G02135/south/daily/geotiff/2024/01_Jan/S_20240101_concentration_v3.0.tif\"\n",
    "da = xr.open_dataarray(url, engine=\"rasterio\")\n",
    "\n",
    "da = rasterix.assign_index(da).set_xindex(\"spatial_ref\", xproj.CRSIndex)\n",
    "\n",
    "da"
   ]
  },
  {
   "cell_type": "code",
   "execution_count": null,
   "id": "3",
   "metadata": {},
   "outputs": [],
   "source": [
    "# Make sure we can save this back to a geotiff\n",
    "# Hmmm, this warning isn't clear to me\n",
    "da.rio.to_raster(\"/tmp/S_20240101_concentration_v3.0.tif\")"
   ]
  },
  {
   "cell_type": "code",
   "execution_count": null,
   "id": "4",
   "metadata": {},
   "outputs": [],
   "source": [
    "!wget -nc https://noaadata.apps.nsidc.org/NOAA/G02135/south/daily/geotiff/2024/01_Jan/S_20240101_concentration_v3.0.tif\n",
    "!ls -l S_20240101_concentration_v3.0.tif"
   ]
  },
  {
   "cell_type": "code",
   "execution_count": null,
   "id": "5",
   "metadata": {},
   "outputs": [],
   "source": [
    "# Are the tiffs the same?\n",
    "!ls -l /tmp/S_20240101_concentration_v3.0.tif"
   ]
  },
  {
   "cell_type": "markdown",
   "id": "6",
   "metadata": {},
   "source": [
    "## Two rasters with same GeoTransform but different CRS\n",
    "\n",
    "Here is a case for needing to account for both affine and CRS. [Sentinel-2](https://planetarycomputer.microsoft.com/dataset/sentinel-2-l2a) is delivered on the MGRS grid, which divides UTM Zones into smaller units. Adjacent zones have the same affines, and therefore appear to have the same coordinates. But the CRS differentiates them.\n",
    "\n",
    "We want Xarray to raise an error in this case before attempting any computations."
   ]
  },
  {
   "cell_type": "code",
   "execution_count": null,
   "id": "7",
   "metadata": {},
   "outputs": [],
   "source": [
    "def load_raster(href, overview_level=3, masked=True):\n",
    "    da = xr.open_dataarray(\n",
    "        href, engine=\"rasterio\", masked=masked, open_kwargs=dict(overview_level=overview_level), chunks=\"auto\"\n",
    "    ).squeeze()\n",
    "\n",
    "    return rasterix.assign_index(da).set_xindex(\"spatial_ref\", xproj.CRSIndex)\n",
    "\n",
    "\n",
    "url = \"https://sentinel2l2a01.blob.core.windows.net/sentinel2-l2/10/T/DS/2025/04/14/S2C_MSIL2A_20250414T190931_N0511_R056_T10TDS_20250415T001314.SAFE/GRANULE/L2A_T10TDS_A003172_20250414T191846/IMG_DATA/R10m/T10TDS_20250414T190931_B04_10m.tif\"\n",
    "da1 = load_raster(url)\n",
    "\n",
    "url = \"https://sentinel2l2a01.blob.core.windows.net/sentinel2-l2/11/T/MM/2025/04/13/S2B_MSIL2A_20250413T184919_N0511_R113_T11TMM_20250413T224733.SAFE/GRANULE/L2A_T11TMM_A042324_20250413T185100/IMG_DATA/R10m/T11TMM_20250413T184919_B04_10m.tif\"\n",
    "da2 = load_raster(url)\n",
    "\n",
    "da1 + da2"
   ]
  },
  {
   "cell_type": "code",
   "execution_count": null,
   "id": "8",
   "metadata": {},
   "outputs": [],
   "source": []
  }
 ],
 "metadata": {
  "language_info": {
   "codemirror_mode": {
    "name": "ipython",
    "version": 3
   },
   "file_extension": ".py",
   "mimetype": "text/x-python",
   "name": "python",
   "nbconvert_exporter": "python",
   "pygments_lexer": "ipython3"
  }
 },
 "nbformat": 4,
 "nbformat_minor": 5
}
